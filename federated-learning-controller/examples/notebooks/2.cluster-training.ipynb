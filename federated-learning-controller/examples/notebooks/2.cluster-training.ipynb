{
 "cells": [
  {
   "cell_type": "markdown",
   "metadata": {
    "vscode": {
     "languageId": "plaintext"
    }
   },
   "source": [
    "# Train the Model on the Managed Cluster - Without Federated Learning\n",
    "\n",
    "- **Current Cluster:** Cluster 1\n",
    "- **Dataset (Subset):** MNIST (Digits 0, 1, 2, 3, 4)"
   ]
  },
  {
   "cell_type": "code",
   "execution_count": null,
   "metadata": {
    "vscode": {
     "languageId": "plaintext"
    }
   },
   "outputs": [],
   "source": [
    "import sys\n",
    "sys.path.append('/home/jovyan/.local/bin')\n",
    "\n",
    "!pip install -q torch\n",
    "!pip install -q torchvision==0.20.0"
   ]
  },
  {
   "cell_type": "code",
   "execution_count": null,
   "metadata": {
    "vscode": {
     "languageId": "plaintext"
    }
   },
   "outputs": [],
   "source": [
    "import torch\n",
    "import torch.nn as nn\n",
    "import torch.nn.functional as F\n",
    "import torch.optim as optim\n",
    "import torchvision\n",
    "from torch.optim.lr_scheduler import StepLR"
   ]
  },
  {
   "cell_type": "code",
   "execution_count": null,
   "metadata": {
    "vscode": {
     "languageId": "plaintext"
    }
   },
   "outputs": [],
   "source": [
    "class Net(nn.Module):\n",
    "    def __init__(self):\n",
    "        super(Net, self).__init__()\n",
    "        self.conv1 = nn.Conv2d(1, 32, 3, 1)\n",
    "        self.conv2 = nn.Conv2d(32, 64, 3, 1)\n",
    "        self.dropout1 = nn.Dropout(0.25)\n",
    "        self.dropout2 = nn.Dropout(0.5)\n",
    "        self.fc1 = nn.Linear(9216, 128)\n",
    "        self.fc2 = nn.Linear(128, 10)\n",
    "\n",
    "    def forward(self, x):\n",
    "        x = self.conv1(x)\n",
    "        x = F.relu(x)\n",
    "        x = self.conv2(x)\n",
    "        x = F.relu(x)\n",
    "        x = F.max_pool2d(x, 2)\n",
    "        x = self.dropout1(x)\n",
    "        x = torch.flatten(x, 1)\n",
    "        x = self.fc1(x)\n",
    "        x = F.relu(x)\n",
    "        x = self.dropout2(x)\n",
    "        x = self.fc2(x)\n",
    "        output = F.log_softmax(x, dim=1)\n",
    "        return output"
   ]
  },
  {
   "cell_type": "code",
   "execution_count": null,
   "metadata": {
    "vscode": {
     "languageId": "plaintext"
    }
   },
   "outputs": [],
   "source": [
    "def train(model, device, train_loader, optimizer, epoch):\n",
    "    train_losses = []\n",
    "    train_sizes = []\n",
    "    model.train()\n",
    "    count = (epoch - 1) * len(train_loader.dataset)\n",
    "    for batch_idx, (data, target) in enumerate(train_loader):\n",
    "        data, target = data.to(device), target.to(device)\n",
    "        optimizer.zero_grad()\n",
    "        output = model(data)\n",
    "        loss = F.nll_loss(output, target)\n",
    "        loss.backward()\n",
    "        optimizer.step()\n",
    "        count += len(data)\n",
    "        if batch_idx % 100 == 0:\n",
    "            print('Train Epoch: {} [{}/{} ({:.0f}%)]\\tLoss: {:.6f}'.format(\n",
    "                epoch, batch_idx * len(data), len(train_loader.dataset),\n",
    "                100. * batch_idx / len(train_loader), loss.item()))\n",
    "            train_losses.append(loss.item())\n",
    "            train_sizes.append(count)\n",
    "            \n",
    "            # torch.save(network.state_dict(), '/model/model.pth')\n",
    "            # torch.save(optimizer.state_dict(), '/model/optimizer.pth')\n",
    "    return train_sizes, train_losses"
   ]
  },
  {
   "cell_type": "code",
   "execution_count": null,
   "metadata": {
    "vscode": {
     "languageId": "plaintext"
    }
   },
   "outputs": [],
   "source": [
    "def test(model, device, test_loader):\n",
    "    model.eval()\n",
    "    test_loss = 0\n",
    "    correct = 0\n",
    "    with torch.no_grad():\n",
    "        for data, target in test_loader:\n",
    "            data, target = data.to(device), target.to(device)\n",
    "            output = model(data)\n",
    "            test_loss += F.nll_loss(output, target, reduction='sum').item()  # sum up batch loss\n",
    "            pred = output.argmax(dim=1, keepdim=True)  # get the index of the max log-probability\n",
    "            correct += pred.eq(target.view_as(pred)).sum().item()\n",
    "\n",
    "    test_loss /= len(test_loader.dataset)\n",
    "\n",
    "    print('\\nTest set: Average loss: {:.4f}, Accuracy: {}/{} ({:.0f}%)\\n'.format(\n",
    "        test_loss, correct, len(test_loader.dataset),\n",
    "        100. * correct / len(test_loader.dataset)))\n",
    "    return test_loss"
   ]
  },
  {
   "cell_type": "code",
   "execution_count": null,
   "metadata": {
    "vscode": {
     "languageId": "plaintext"
    }
   },
   "outputs": [],
   "source": [
    "def include_digits(dataset, included_digits):\n",
    "    including_indices = [\n",
    "        idx for idx in range(len(dataset)) if dataset[idx][1] in included_digits\n",
    "    ]\n",
    "    return torch.utils.data.Subset(dataset, including_indices)\n",
    "\n",
    "\n",
    "def exclude_digits(dataset, excluded_digits):\n",
    "    including_indices = [\n",
    "        idx for idx in range(len(dataset)) if dataset[idx][1] not in excluded_digits\n",
    "    ]\n",
    "    return torch.utils.data.Subset(dataset, including_indices)\n",
    "    \n",
    "transform=torchvision.transforms.Compose([\n",
    "        torchvision.transforms.ToTensor(),\n",
    "        torchvision.transforms.Normalize((0.1307,), (0.3081,))\n",
    "        ])\n",
    "dataset1 = torchvision.datasets.MNIST('./data', train=True, download=True, transform=transform)\n",
    "dataset1 = include_digits(dataset1, included_digits=[0, 1, 2, 3, 4])\n",
    "dataset2 = torchvision.datasets.MNIST('./data', train=False, download=True, transform=transform)"
   ]
  },
  {
   "cell_type": "code",
   "execution_count": null,
   "metadata": {
    "vscode": {
     "languageId": "plaintext"
    }
   },
   "outputs": [],
   "source": [
    "train_loader = torch.utils.data.DataLoader(dataset1, batch_size = 64, shuffle=True)\n",
    "test_loader = torch.utils.data.DataLoader(dataset2, batch_size = 1000, shuffle=True)"
   ]
  },
  {
   "cell_type": "code",
   "execution_count": null,
   "metadata": {
    "vscode": {
     "languageId": "plaintext"
    }
   },
   "outputs": [],
   "source": [
    "def plot_distribution(dataset, title):\n",
    "    import matplotlib.pyplot as plt\n",
    "    import numpy as np\n",
    "    \n",
    "    labels = [data[1] for data in dataset]\n",
    "    unique_labels, label_counts = torch.unique(torch.tensor(labels), return_counts=True)\n",
    "    \n",
    "    plt.figure(figsize=(4, 2))\n",
    "\n",
    "    counts_dict = {\n",
    "        label.item(): count.item() for label, count in zip(unique_labels, label_counts)\n",
    "    }\n",
    "\n",
    "    all_labels = np.arange(10)\n",
    "    all_label_counts = [counts_dict.get(label, 0) for label in all_labels]\n",
    "\n",
    "    plt.bar(all_labels, all_label_counts)\n",
    "    plt.title(title)\n",
    "    plt.xlabel(\"Digit\")\n",
    "    plt.ylabel(\"Count\")\n",
    "    plt.xticks(all_labels)\n",
    "    plt.show()\n",
    "\n",
    "plot_distribution(dataset1, \"train dataset distribution\")\n",
    "plot_distribution(dataset2, \"test dataset distribution\")"
   ]
  },
  {
   "cell_type": "code",
   "execution_count": null,
   "metadata": {
    "vscode": {
     "languageId": "plaintext"
    }
   },
   "outputs": [],
   "source": [
    "device = torch.device(\"cpu\")\n",
    "model = Net().to(device)\n",
    "optimizer = optim.Adadelta(model.parameters(), lr=1.0)\n",
    "scheduler = StepLR(optimizer, step_size=1, gamma=0.7)\n",
    "epochs = 3"
   ]
  },
  {
   "cell_type": "code",
   "execution_count": null,
   "metadata": {
    "vscode": {
     "languageId": "plaintext"
    }
   },
   "outputs": [],
   "source": [
    "train_losses = []\n",
    "train_sizes = []\n",
    "\n",
    "test_losses = []\n",
    "test_sizes = [i*len(train_loader.dataset) for i in range(epochs + 1)]\n",
    "\n",
    "test_loss = test(model, device, test_loader)\n",
    "test_losses.append(test_loss)\n",
    "\n",
    "for epoch in range(1, epochs + 1):\n",
    "\n",
    "        sizes, losses = train(model, device, train_loader, optimizer, epoch)\n",
    "        train_losses.extend(losses)\n",
    "        train_sizes.extend(sizes)\n",
    "    \n",
    "        test_loss = test(model, device, test_loader)\n",
    "        test_losses.append(test_loss)\n",
    "    \n",
    "        scheduler.step()"
   ]
  },
  {
   "cell_type": "code",
   "execution_count": null,
   "metadata": {
    "vscode": {
     "languageId": "plaintext"
    }
   },
   "outputs": [],
   "source": [
    "# confusion matrix\n",
    "\n",
    "def compute_confusion_matrix(model, testset):\n",
    "    import numpy as np\n",
    "\n",
    "    # Initialize lists to store true labels and predicted labels\n",
    "    true_labels = []\n",
    "    predicted_labels = []\n",
    "\n",
    "    # Iterate over the test set to get predictions\n",
    "    for image, label in testset:\n",
    "        # Forward pass through the model to get predictions\n",
    "        output = model(image.unsqueeze(0))  # Add batch dimension\n",
    "        _, predicted = torch.max(output, 1)\n",
    "\n",
    "        # Append true and predicted labels to lists\n",
    "        true_labels.append(label)\n",
    "        predicted_labels.append(predicted.item())\n",
    "\n",
    "    # Convert lists to numpy arrays\n",
    "    true_labels = np.array(true_labels)\n",
    "    predicted_labels = np.array(predicted_labels)\n",
    "\n",
    "    # Compute confusion matrix\n",
    "    from sklearn.metrics import confusion_matrix\n",
    "    cm = confusion_matrix(true_labels, predicted_labels)\n",
    "\n",
    "    return cm\n",
    "\n",
    "\n",
    "def plot_confusion_matrix(cm, title):\n",
    "    import matplotlib.pyplot as plt\n",
    "    import seaborn as sns\n",
    "\n",
    "    plt.figure(figsize=(6, 4))\n",
    "    sns.heatmap(cm, annot=True, cmap=\"Blues\", fmt=\"d\", linewidths=0.5)\n",
    "    plt.title(title)\n",
    "    plt.xlabel(\"Predicted Label\")\n",
    "    plt.ylabel(\"True Label\")\n",
    "    plt.show()"
   ]
  },
  {
   "cell_type": "code",
   "execution_count": null,
   "metadata": {
    "vscode": {
     "languageId": "plaintext"
    }
   },
   "outputs": [],
   "source": [
    "confusion_matrix_model_all = compute_confusion_matrix(model, dataset2)\n",
    "plot_confusion_matrix(confusion_matrix_model_all, \"model\")"
   ]
  },
  {
   "cell_type": "code",
   "execution_count": null,
   "metadata": {
    "vscode": {
     "languageId": "plaintext"
    }
   },
   "outputs": [],
   "source": [
    "# plot samples\n",
    "\n",
    "examples = enumerate(test_loader)\n",
    "batch_idx, (example_data, example_targets) = next(examples)\n",
    "\n",
    "batch_idx, example_data.shape, example_targets.shape, len(example_targets)"
   ]
  },
  {
   "cell_type": "code",
   "execution_count": null,
   "metadata": {
    "vscode": {
     "languageId": "plaintext"
    }
   },
   "outputs": [],
   "source": [
    "import matplotlib.pyplot as plt\n",
    "fig = plt.figure(figsize=(12, 4))\n",
    "rows, cols = 2, 5  # Arrange in a 2-row, 5-column grid\n",
    "for i in range(10):\n",
    "  plt.subplot(rows, cols, i + 1)\n",
    "  plt.tight_layout()\n",
    "  plt.imshow(example_data[i][0], cmap='gray', interpolation='none')\n",
    "  plt.title(\"Ground Truth: {}\".format(example_targets[i]))\n",
    "  plt.xticks([])\n",
    "  plt.yticks([])"
   ]
  },
  {
   "cell_type": "code",
   "execution_count": null,
   "metadata": {
    "vscode": {
     "languageId": "plaintext"
    }
   },
   "outputs": [],
   "source": [
    "output = model(example_data)\n",
    "print(output.shape)\n",
    "\n",
    "fig = plt.figure(figsize=(12, 4))\n",
    "rows, cols = 2, 5  # Arrange in a 2-row, 5-column grid\n",
    "for i in range(10):\n",
    "    plt.subplot(rows, cols, i + 1)\n",
    "    plt.tight_layout()\n",
    "    plt.imshow(example_data[i][0], cmap='gray', interpolation='none')\n",
    "    prediction = output.data.max(1, keepdim=True)[1][i].item()  # Get the index of the highest output value (predicted label)\n",
    "    \n",
    "    label = example_targets[i]\n",
    "    \n",
    "    # Set the title based on whether the prediction is correct\n",
    "    if prediction == label:\n",
    "        plt.title(f\"Prediction: {prediction}\", color='green')  # Correct prediction\n",
    "    else:\n",
    "        plt.title(f\"Prediction: {prediction} ({label})\", color='red')  # Incorrect prediction\n",
    "\n",
    "    plt.xticks([])\n",
    "    plt.yticks([])"
   ]
  }
 ],
 "metadata": {
  "language_info": {
   "name": "python"
  }
 },
 "nbformat": 4,
 "nbformat_minor": 2
}
